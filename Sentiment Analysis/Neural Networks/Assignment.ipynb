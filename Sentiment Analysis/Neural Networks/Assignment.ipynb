{
 "cells": [
  {
   "cell_type": "code",
   "execution_count": 2,
   "metadata": {},
   "outputs": [
    {
     "name": "stderr",
     "output_type": "stream",
     "text": [
      "[nltk_data] Downloading package stopwords to\n",
      "[nltk_data]     C:\\Users\\Bun233\\AppData\\Roaming\\nltk_data...\n",
      "[nltk_data]   Package stopwords is already up-to-date!\n"
     ]
    }
   ],
   "source": [
    "import os\n",
    "import warnings\n",
    "from collections import Counter\n",
    "import matplotlib.pyplot as plt\n",
    "import nltk\n",
    "nltk.download('stopwords')\n",
    "from nltk.corpus import stopwords\n",
    "from nltk import word_tokenize\n",
    "from string import punctuation\n",
    "import pandas as pd\n",
    "import numpy as np\n",
    "from sklearn.feature_extraction.text import TfidfVectorizer\n",
    "from sklearn.naive_bayes import MultinomialNB\n",
    "from sklearn.pipeline import make_pipeline\n",
    "from sklearn.metrics import confusion_matrix, accuracy_score,f1_score,precision_score,recall_score,classification_report\n",
    "import seaborn as sns\n",
    "import matplotlib.pyplot as plt\n",
    "import pickle\n",
    "import torch\n",
    "import torch.nn as nn\n",
    "from torch.nn import functional as F\n",
    "import torch.optim as optim\n",
    "from torchtext.legacy import data\n",
    "import time\n",
    "import random\n",
    "\n",
    "#Note:\n",
    "#'codes taken from' means codes are copied from a source\n",
    "# 'codes based on' or 'codes modified from' mean techniques from the source are used with adjustments according to the specific task "
   ]
  },
  {
   "cell_type": "code",
   "execution_count": 3,
   "metadata": {},
   "outputs": [],
   "source": [
    "#ignore warnings for better presentation\n",
    "warnings.filterwarnings('ignore')"
   ]
  },
  {
   "cell_type": "code",
   "execution_count": 4,
   "metadata": {},
   "outputs": [],
   "source": [
    "#load data\n",
    "raw_140_train=pd.read_csv('s140_train.csv',header=None)\n",
    "raw_140_test=pd.read_csv('s140_test.csv',header=None)\n",
    "raw_tomato_train=pd.read_csv('rtmr_train.tsv',sep='\\t')\n",
    "raw_tomato_test=pd.read_csv('rtmr_test.tsv',sep='\\t')\n",
    "    "
   ]
  },
  {
   "cell_type": "code",
   "execution_count": 5,
   "metadata": {},
   "outputs": [],
   "source": [
    "#tokenise and store in lower case\n",
    "tweets_tokenised_train=[word_tokenize(i.lower()) for i in raw_140_train[5].tolist()]\n",
    "tweets_label_train=raw_140_train[0].tolist()\n",
    "tweets_tokenised_test=[word_tokenize(i.lower()) for i in raw_140_test[5].tolist()]\n",
    "tweets_label_test=raw_140_test[0].tolist()\n",
    "\n",
    "tomato_tokenised_train=[word_tokenize(i.lower()) for i in raw_tomato_train['Phrase'].tolist()]\n",
    "tomato_label_train=raw_tomato_train['Sentiment'].tolist()\n",
    "tomato_tokenised_test=[word_tokenize(i.lower()) for i in raw_tomato_test['Phrase'].tolist()]\n",
    "tomato_label_test=raw_tomato_test['Sentiment'].tolist()"
   ]
  },
  {
   "cell_type": "code",
   "execution_count": 6,
   "metadata": {},
   "outputs": [
    {
     "name": "stdout",
     "output_type": "stream",
     "text": [
      "tweets_label_train:  Counter({0: 800000, 4: 800000})\n",
      "tweets_label_test:  Counter({4: 182, 0: 177, 2: 139})\n",
      "tomato_label_train:  Counter({2: 75555, 3: 31289, 1: 25872, 4: 8774, 0: 6766})\n",
      "tomato_label_test:  Counter({2: 4027, 3: 1638, 1: 1400, 4: 432, 0: 306})\n"
     ]
    }
   ],
   "source": [
    "#data distribution\n",
    "print('tweets_label_train: ',Counter(tweets_label_train))\n",
    "print('tweets_label_test: ',Counter(tweets_label_test))\n",
    "print('tomato_label_train: ',Counter(tomato_label_train))\n",
    "print('tomato_label_test: ',Counter(tomato_label_test))"
   ]
  },
  {
   "cell_type": "code",
   "execution_count": 7,
   "metadata": {},
   "outputs": [],
   "source": [
    "#preprocessing\n",
    "tweets_cleaned_train=tweets_tokenised_train\n",
    "for tweet in range(len(tweets_tokenised_train)):\n",
    "    tweet_cleaned=[]\n",
    "    for word in tweets_tokenised_train[tweet]: #normalise abbreviations and terminologies\n",
    "        word=word.replace('-','')\n",
    "        word=word.replace('.','')\n",
    "        if word not in list(punctuation): #remove punctuation\n",
    "            if word not in stopwords.words('english'):\n",
    "                if len(word)>1: #store words with 4 characters or more, corresponding to the size of convolution kernels\n",
    "                    tweet_cleaned.append(word)\n",
    "    tweets_cleaned_train[tweet]=tweet_cleaned\n",
    "train_140=[' '.join(tweets_cleaned_train[i]) for i in range(len(tweets_cleaned_train))]\n",
    "\n",
    "tweets_cleaned_test=tweets_tokenised_test\n",
    "for tweet in range(len(tweets_tokenised_test)):\n",
    "    tweet_cleaned_test=[]\n",
    "    for word in tweets_tokenised_test[tweet]:\n",
    "        word=word.replace('-','')\n",
    "        word=word.replace('.','')\n",
    "        if word not in list(punctuation):\n",
    "            if word not in stopwords.words('english'):\n",
    "                if len(word)>1:\n",
    "                    tweet_cleaned_test.append(word)\n",
    "    tweets_cleaned_test[tweet]=tweet_cleaned_test\n",
    "test_140=[' '.join(tweets_cleaned_test[i]) for i in range(len(tweets_cleaned_test))]\n",
    "\n",
    "tomato_cleaned_train=tomato_tokenised_train\n",
    "for review in range(len(tomato_tokenised_train)):\n",
    "    review_cleaned=[]\n",
    "    for word in tomato_tokenised_train[review]:\n",
    "        word=word.replace('-','')\n",
    "        word=word.replace('.','')\n",
    "        if word not in list(punctuation):\n",
    "            if word not in stopwords.words('english'):\n",
    "                if len(word)>1:\n",
    "                    review_cleaned.append(word)\n",
    "    tomato_cleaned_train[review]=review_cleaned\n",
    "train_tomato=[' '.join(tomato_cleaned_train[i]) for i in range(len(tomato_cleaned_train))]\n",
    "\n",
    "tomato_cleaned_test=tomato_tokenised_test\n",
    "for review in range(len(tomato_tokenised_test)):\n",
    "    review_cleaned=[]\n",
    "    for word in tomato_tokenised_test[review]:\n",
    "        word=word.replace('-','')\n",
    "        word=word.replace('.','')\n",
    "        if word not in list(punctuation):\n",
    "            if word not in stopwords.words('english'):\n",
    "                if len(word)>1:\n",
    "                    review_cleaned.append(word)\n",
    "    tomato_cleaned_test[review]=review_cleaned\n",
    "test_tomato=[' '.join(tomato_cleaned_test[i]) for i in range(len(tomato_cleaned_test))]\n",
    "\n",
    "train_combined=train_140+train_tomato\n",
    "train_combined_label=tweets_label_train+tomato_label_train"
   ]
  },
  {
   "cell_type": "code",
   "execution_count": 8,
   "metadata": {},
   "outputs": [
    {
     "name": "stdout",
     "output_type": "stream",
     "text": [
      "tweets_label_train:  Counter({0: 800000, 4: 800000})\n",
      "tweets_label_test:  Counter({4: 182, 0: 177, 2: 139})\n",
      "tomato_label_train:  Counter({2: 75555, 3: 31289, 1: 25872, 4: 8774, 0: 6766})\n",
      "tomato_label_test:  Counter({2: 4027, 3: 1638, 1: 1400, 4: 432, 0: 306})\n"
     ]
    }
   ],
   "source": [
    "#matches the previous one\n",
    "print('tweets_label_train: ',Counter(tweets_label_train))\n",
    "print('tweets_label_test: ',Counter(tweets_label_test))\n",
    "print('tomato_label_train: ',Counter(tomato_label_train))\n",
    "print('tomato_label_test: ',Counter(tomato_label_test))"
   ]
  },
  {
   "cell_type": "code",
   "execution_count": 9,
   "metadata": {},
   "outputs": [],
   "source": [
    "#this block prepares processed documents for neural networks\n",
    "df_train_rmtr_processed=pd.concat([pd.DataFrame({'text':tomato_cleaned_train}),pd.DataFrame({'label':tomato_label_train})],axis=1)\n",
    "df_test_rmtr_processed=pd.concat([pd.DataFrame({'text':tomato_cleaned_test}),pd.DataFrame({'label':tomato_label_test})],axis=1)\n",
    "df_test_s140_processed=pd.concat([pd.DataFrame({'text':tweets_cleaned_test}),pd.DataFrame({'label':tweets_label_test})],axis=1)\n",
    "\n",
    "df_train_rmtr_processed.to_csv('rmtr_train_processed.csv',index=False)\n",
    "df_test_rmtr_processed.to_csv('rmtr_test_processed.csv',index=False)\n",
    "df_test_s140_processed.to_csv('s140_test_processed.csv',index=False)"
   ]
  },
  {
   "cell_type": "code",
   "execution_count": 10,
   "metadata": {},
   "outputs": [],
   "source": [
    "#Codes in this block are based on workshop 7.3.2 Text classification using Naive Bayes\n",
    "\n",
    "#train on RTMR and test on RTMR and s140\n",
    "model_NB_rtmr = make_pipeline(TfidfVectorizer(), MultinomialNB())\n",
    "model_NB_rtmr.fit(train_tomato,tomato_label_train)\n",
    "NB_rmtr_predicted_by_rmtr=model_NB_rtmr.predict(test_tomato)\n",
    "NB_s140_predicted_by_rmtr=model_NB_rtmr.predict(test_140)\n",
    "\n",
    "#train on s140 and test on RTMR and s140\n",
    "model_NB_s140 = make_pipeline(TfidfVectorizer(), MultinomialNB())\n",
    "model_NB_s140.fit(train_140,tweets_label_train)\n",
    "NB_rtmr_predicted_by_s140=model_NB_s140.predict(test_tomato)\n",
    "NB_s140_predicted_by_s140=model_NB_s140.predict(test_140)\n",
    "\n",
    "#train on combined and test on RTMR and s140\n",
    "model_NB_combined = make_pipeline(TfidfVectorizer(), MultinomialNB())\n",
    "model_NB_combined.fit(train_combined,train_combined_label)\n",
    "NB_rtmr_predicted_by_combined=model_NB_combined.predict(test_tomato)\n",
    "NB_s140_predicted_by_combined=model_NB_combined.predict(test_140)"
   ]
  },
  {
   "cell_type": "code",
   "execution_count": 11,
   "metadata": {},
   "outputs": [],
   "source": [
    "#this block is taken from workshop 7.4.1\n",
    "pkl_filename = \"NB_rtmr.pkl\"\n",
    "with open(pkl_filename, 'wb') as file: \n",
    "    pickle.dump(model_NB_rtmr, file)\n",
    "\n",
    "pkl_filename = \"NB_s140.pkl\"\n",
    "with open(pkl_filename, 'wb') as file: \n",
    "    pickle.dump(model_NB_s140, file)\n",
    "\n",
    "pkl_filename = \"NB_combined.pkl\"\n",
    "with open(pkl_filename, 'wb') as file: \n",
    "    pickle.dump(model_NB_combined, file)"
   ]
  },
  {
   "cell_type": "code",
   "execution_count": 12,
   "metadata": {},
   "outputs": [
    {
     "data": {
      "image/png": "[encoded data removed]",
      "text/plain": [
       "<Figure size 432x288 with 2 Axes>"
      ]
     },
     "metadata": {
      "needs_background": "light"
     },
     "output_type": "display_data"
    },
    {
     "name": "stdout",
     "output_type": "stream",
     "text": [
      "Accuracy (rtmr on rtmr):  0.5968217352300397\n",
      "F1-score (rtmr on rtmr):  0.36333313137273626\n",
      "Precision (rtmr on rtmr):  0.5777725515167214\n",
      "Recall (rtmr on rtmr):  0.3436849211215328\n",
      "\n",
      "\n"
     ]
    },
    {
     "data": {
      "image/png": "[encoded data removed]",
      "text/plain": [
       "<Figure size 432x288 with 2 Axes>"
      ]
     },
     "metadata": {
      "needs_background": "light"
     },
     "output_type": "display_data"
    },
    {
     "name": "stdout",
     "output_type": "stream",
     "text": [
      "Accuracy (s140 on rtmr):  0.27710843373493976\n",
      "F1-score (s140 on rtmr):  0.09367160203253146\n",
      "Precision (s140 on rtmr):  0.25956521739130434\n",
      "Recall (s140 on rtmr):  0.19822120325717446\n",
      "\n",
      "\n"
     ]
    },
    {
     "data": {
      "image/png": "[encoded data removed]",
      "text/plain": [
       "<Figure size 432x288 with 2 Axes>"
      ]
     },
     "metadata": {
      "needs_background": "light"
     },
     "output_type": "display_data"
    },
    {
     "name": "stdout",
     "output_type": "stream",
     "text": [
      "Accuracy (rtmr on s140):  0.07343329488658208\n",
      "F1-score (rtmr on s140):  0.052568472750122705\n",
      "Precision (rtmr on s140):  0.028772578348450168\n",
      "Recall (rtmr on s140):  0.3039760348583878\n",
      "\n",
      "\n"
     ]
    },
    {
     "data": {
      "image/png": "[encoded data removed]",
      "text/plain": [
       "<Figure size 432x288 with 2 Axes>"
      ]
     },
     "metadata": {
      "needs_background": "light"
     },
     "output_type": "display_data"
    },
    {
     "name": "stdout",
     "output_type": "stream",
     "text": [
      "Accuracy (s140 on s140):  0.5562248995983936\n",
      "F1-score (s140 on s140):  0.43272567074080953\n",
      "Precision (s140 on s140):  0.3739820241013403\n",
      "Recall (s140 on s140):  0.5146727095879639\n",
      "\n",
      "\n"
     ]
    },
    {
     "data": {
      "image/png": "[encoded data removed]",
      "text/plain": [
       "<Figure size 432x288 with 2 Axes>"
      ]
     },
     "metadata": {
      "needs_background": "light"
     },
     "output_type": "display_data"
    },
    {
     "name": "stdout",
     "output_type": "stream",
     "text": [
      "Accuracy (rtmr on combined):  0.14250929129821863\n",
      "F1-score (rtmr on combined):  0.1057819457682448\n",
      "Precision (rtmr on combined):  0.43827523163268467\n",
      "Recall (rtmr on combined):  0.3562556076287069\n",
      "\n",
      "\n"
     ]
    },
    {
     "data": {
      "image/png": "[encoded data removed]",
      "text/plain": [
       "<Figure size 432x288 with 2 Axes>"
      ]
     },
     "metadata": {
      "needs_background": "light"
     },
     "output_type": "display_data"
    },
    {
     "name": "stdout",
     "output_type": "stream",
     "text": [
      "Accuracy (s140 on combined):  0.5602409638554217\n",
      "F1-score (s140 on combined):  0.43571571571571566\n",
      "Precision (s140 on combined):  0.37640060566731554\n",
      "Recall (s140 on combined):  0.5183874505908405\n"
     ]
    }
   ],
   "source": [
    "#test on naive bayes models\n",
    "#rtmr on rtmr\n",
    "mat = confusion_matrix(tomato_label_test,NB_rmtr_predicted_by_rmtr)\n",
    "sns.heatmap(mat.T, square = True, annot=True, fmt = \"d\") #this line is from workshop 7.3.3\n",
    "plt.title('Multinomial NB trained on rtmr and tested on rtmr')\n",
    "plt.xlabel(\"True label\")\n",
    "\n",
    "plt.ylabel(\"Predicted label\")\n",
    "plt.show()\n",
    "print('Accuracy (rtmr on rtmr): ',accuracy_score(tomato_label_test,NB_rmtr_predicted_by_rmtr))\n",
    "print('F1-score (rtmr on rtmr): ',f1_score(tomato_label_test,NB_rmtr_predicted_by_rmtr,average='macro'))\n",
    "print('Precision (rtmr on rtmr): ',precision_score(tomato_label_test,NB_rmtr_predicted_by_rmtr,average='macro'))\n",
    "print('Recall (rtmr on rtmr): ',recall_score(tomato_label_test,NB_rmtr_predicted_by_rmtr,average='macro'))\n",
    "print('\\n')\n",
    "\n",
    "#s140 on rtmr\n",
    "mat = confusion_matrix(tweets_label_test,NB_s140_predicted_by_rmtr)\n",
    "sns.heatmap(mat.T, square = True, annot=True, fmt = \"d\") \n",
    "plt.title('Multinomial NB trained on rtmr and tested on s140')\n",
    "plt.xlabel(\"True label\")\n",
    "plt.ylabel(\"Predicted label\")\n",
    "plt.show()\n",
    "print('Accuracy (s140 on rtmr): ',accuracy_score(tweets_label_test,NB_s140_predicted_by_rmtr))\n",
    "print('F1-score (s140 on rtmr): ',f1_score(tweets_label_test,NB_s140_predicted_by_rmtr,average='macro'))\n",
    "print('Precision (s140 on rtmr): ',precision_score(tweets_label_test,NB_s140_predicted_by_rmtr,average='macro'))\n",
    "print('Recall (s140 on rtmr): ',recall_score(tweets_label_test,NB_s140_predicted_by_rmtr,average='macro'))\n",
    "print('\\n')\n",
    "\n",
    "#rmtr on s140\n",
    "mat = confusion_matrix(tomato_label_test,NB_rtmr_predicted_by_s140)\n",
    "sns.heatmap(mat.T, square = True, annot=True, fmt = \"d\") #this line is from workshop 7.3.3\n",
    "plt.title('Multinomial NB trained on s140 and tested on rtmr')\n",
    "plt.xlabel(\"True label\")\n",
    "plt.ylabel(\"Predicted label\")\n",
    "plt.show()\n",
    "print('Accuracy (rtmr on s140): ',accuracy_score(tomato_label_test,NB_rtmr_predicted_by_s140))\n",
    "print('F1-score (rtmr on s140): ',f1_score(tomato_label_test,NB_rtmr_predicted_by_s140,average='macro'))\n",
    "print('Precision (rtmr on s140): ',precision_score(tomato_label_test,NB_rtmr_predicted_by_s140,average='macro'))\n",
    "print('Recall (rtmr on s140): ',recall_score(tomato_label_test,NB_rtmr_predicted_by_s140,average='macro'))\n",
    "print('\\n')\n",
    "\n",
    "#s140 on s140\n",
    "mat = confusion_matrix(tweets_label_test,NB_s140_predicted_by_s140)\n",
    "sns.heatmap(mat.T, square = True, annot=True, fmt = \"d\",xticklabels=[0,2,4],yticklabels=[0,2,4]) \n",
    "plt.title('Multinomial NB trained on s140 and tested on s140')\n",
    "plt.xlabel(\"True label\")\n",
    "plt.ylabel(\"Predicted label\")\n",
    "plt.show()\n",
    "print('Accuracy (s140 on s140): ',accuracy_score(tweets_label_test,NB_s140_predicted_by_s140))\n",
    "print('F1-score (s140 on s140): ',f1_score(tweets_label_test,NB_s140_predicted_by_s140,average='macro'))\n",
    "print('Precision (s140 on s140): ',precision_score(tweets_label_test,NB_s140_predicted_by_s140,average='macro'))\n",
    "print('Recall (s140 on s140): ',recall_score(tweets_label_test,NB_s140_predicted_by_s140,average='macro'))\n",
    "print('\\n')\n",
    "\n",
    "#rmtr on combined\n",
    "mat = confusion_matrix(tomato_label_test,NB_rtmr_predicted_by_combined)\n",
    "sns.heatmap(mat.T, square = True, annot=True, fmt = \"d\") #this line is from workshop 7.3.3\n",
    "plt.title('Multinomial NB trained on combined and tested on rtmr')\n",
    "plt.xlabel(\"True label\")\n",
    "plt.ylabel(\"Predicted label\")\n",
    "plt.show()\n",
    "print('Accuracy (rtmr on combined): ',accuracy_score(tomato_label_test,NB_rtmr_predicted_by_combined))\n",
    "print('F1-score (rtmr on combined): ',f1_score(tomato_label_test,NB_rtmr_predicted_by_combined,average='macro'))\n",
    "print('Precision (rtmr on combined): ',precision_score(tomato_label_test,NB_rtmr_predicted_by_combined,average='macro'))\n",
    "print('Recall (rtmr on combined): ',recall_score(tomato_label_test,NB_rtmr_predicted_by_combined,average='macro'))\n",
    "print('\\n')\n",
    "\n",
    "#s140 on combined\n",
    "mat = confusion_matrix(tweets_label_test,NB_s140_predicted_by_combined)\n",
    "sns.heatmap(mat.T, square = True, annot=True, fmt = \"d\",xticklabels=[0,2,4],yticklabels=[0,2,4]) \n",
    "plt.title('Multinomial NB trained on combined and tested on s140')\n",
    "plt.xlabel(\"True label\")\n",
    "plt.ylabel(\"Predicted label\")\n",
    "plt.show()\n",
    "print('Accuracy (s140 on combined): ',accuracy_score(tweets_label_test,NB_s140_predicted_by_combined))\n",
    "print('F1-score (s140 on combined): ',f1_score(tweets_label_test,NB_s140_predicted_by_combined,average='macro'))\n",
    "print('Precision (s140 on combined): ',precision_score(tweets_label_test,NB_s140_predicted_by_combined,average='macro'))\n",
    "print('Recall (s140 on combined): ',recall_score(tweets_label_test,NB_s140_predicted_by_combined,average='macro'))"
   ]
  },
  {
   "cell_type": "code",
   "execution_count": 13,
   "metadata": {},
   "outputs": [
    {
     "name": "stdout",
     "output_type": "stream",
     "text": [
      "cpu\n"
     ]
    }
   ],
   "source": [
    "#Text Preprocessing for NNs\n",
    "RANDOM_SEED=33\n",
    "torch.manual_seed=RANDOM_SEED\n",
    "\n",
    "#the next 2 lines are taken from workshop 8.1.3 Create Pytorch dataset\n",
    "TEXT=data.Field(tokenize=word_tokenize,batch_first=True,include_lengths=True)\n",
    "LABEL=data.LabelField(dtype = torch.float,batch_first=True)\n",
    "\n",
    "\n",
    "#the next lines are based on workshop 8.1.3 Create Pytorch dataset\n",
    "fields = [('text',TEXT),('label', LABEL)]\n",
    "\n",
    "train=data.TabularDataset(path = 'rmtr_train_processed.csv',format = 'csv',fields = fields,skip_header = True)\n",
    "test_rmtr=data.TabularDataset(path = 'rmtr_test_processed.csv',format = 'csv',fields = fields,skip_header = True)\n",
    "test_s140=data.TabularDataset(path = 's140_test_processed.csv',format = 'csv',fields = fields,skip_header = True)\n",
    "\n",
    "train,validation=train.split(split_ratio=0.8,random_state=random.seed(RANDOM_SEED))\n",
    "\n",
    "TEXT.build_vocab(train,vectors='glove.6B.100d',min_freq=1) #use pre-trained embeddings from GloVe\n",
    "LABEL.build_vocab(train)\n",
    "torch.save(TEXT.vocab,'vocab.pth')\n",
    "device = torch.device('cuda' if torch.cuda.is_available() else 'cpu')\n",
    "print(device)"
   ]
  },
  {
   "cell_type": "code",
   "execution_count": 14,
   "metadata": {},
   "outputs": [
    {
     "name": "stdout",
     "output_type": "stream",
     "text": [
      "Size of TEXT vocabulary: 16252\n",
      "Size of LABEL vocabulary: 5 \n",
      "\n",
      "Most common tokens: [(\"'\", 468085), (',', 365621), ('[', 118605), (']', 118605), ('``', 20752), (\"''\", 18131), (\"'s\", 12869), (\"'film\", 5060), (\"'movie\", 4433), (\"n't\", 3035)] \n",
      "\n",
      "Index of unknown word <unk>: 0\n",
      "Index of padding word <pad>: 1\n"
     ]
    }
   ],
   "source": [
    "print(\"Size of TEXT vocabulary:\",len(TEXT.vocab)) # Number of unique tokens in vocabulary\n",
    "print(\"Size of LABEL vocabulary:\",len(LABEL.vocab),\"\\n\") # Number of unique labels\n",
    "\n",
    "print(\"Most common tokens:\",TEXT.vocab.freqs.most_common(10),\"\\n\")  # Print the 10 most common tokens in the training set\n",
    "\n",
    "# Print the index number for the unknown token (<unk>) and the token used for padding (<pad>)\n",
    "print(\"Index of unknown word <unk>:\",TEXT.vocab.stoi['<unk>'])\n",
    "print(\"Index of padding word <pad>:\",TEXT.vocab.stoi['<pad>'])"
   ]
  },
  {
   "cell_type": "code",
   "execution_count": 15,
   "metadata": {},
   "outputs": [],
   "source": [
    "#this block is modified from workshop 8.1.6 Create iterators for the training and test data\n",
    "BATCH_SIZE=1000\n",
    "\n",
    "#create training and validation iterators\n",
    "train_rmtr_iterator,validation_rmtr_iterator=data.BucketIterator.splits(\n",
    "    (train,validation),\n",
    "    batch_size=BATCH_SIZE,\n",
    "    sort_key = lambda x: len(x.text),\n",
    "    sort_within_batch=True,\n",
    "    device = device)\n",
    "\n",
    "#create testing iterators\n",
    "test_rmtr_iterator=data.BucketIterator(test_rmtr,\n",
    "    batch_size=7803, #there are 7803 reviews in the rmtr testing set\n",
    "    sort_key = lambda x: len(x.text),\n",
    "    sort_within_batch=True,\n",
    "    device = device)\n",
    "\n",
    "test_s140_iterator=data.BucketIterator(test_s140,\n",
    "    batch_size=498, #there are 498 tweets in the s140 testing set\n",
    "    sort_key = lambda x: len(x.text),\n",
    "    sort_within_batch=True,\n",
    "    device = device)"
   ]
  },
  {
   "cell_type": "code",
   "execution_count": 16,
   "metadata": {},
   "outputs": [],
   "source": [
    "#this block and the next block are taken from https://towardsdatascience.com/cnn-sentiment-analysis-9b1771e7cdd6 with slight modifications\n",
    "class CNN_Text(nn.Module):\n",
    "    ''' Define network architecture and forward path. '''\n",
    "    def __init__(self, vocab_size, \n",
    "                 vector_size, n_filters, \n",
    "                 filter_sizes, output_dim, \n",
    "                 dropout, pad_idx):\n",
    "        \n",
    "        super().__init__()\n",
    "        # Create word embeddings from the input words     \n",
    "        self.embedding = nn.Embedding(vocab_size, vector_size, \n",
    "                                      padding_idx = pad_idx)\n",
    "        \n",
    "        # Specify convolutions with filters of different sizes (fs)\n",
    "        self.convs = nn.ModuleList([nn.Conv2d(in_channels = 1, \n",
    "                                              out_channels = n_filters, \n",
    "                                              kernel_size = (fs, vector_size)) \n",
    "                                    for fs in filter_sizes])\n",
    "        \n",
    "        # Add a fully connected layer for final predicitons\n",
    "        self.linear = nn.Linear(len(filter_sizes) * n_filters, output_dim)\n",
    "        \n",
    "        # Drop some of the nodes to increase robustness in training\n",
    "        self.dropout = nn.Dropout(dropout)\n",
    "        self.act=nn.Softmax()\n",
    "        \n",
    "        \n",
    "        \n",
    "    def forward(self, text):\n",
    "        '''Forward path of the network.'''       \n",
    "        # Get word embeddings and formt them for convolutions\n",
    "        embedded = self.embedding(text).unsqueeze(1)\n",
    "        \n",
    "        # Perform convolutions and apply activation functions\n",
    "        conved = [F.relu(conv(embedded)).squeeze(3) for conv in self.convs]\n",
    "            \n",
    "        # Pooling layer to reduce dimensionality    \n",
    "        pooled = [F.max_pool1d(conv, conv.shape[2]).squeeze(2) for conv in conved]\n",
    "        \n",
    "        # Dropout layer\n",
    "        cat = self.dropout(torch.cat(pooled, dim = 1))\n",
    "        densed=self.linear(cat)\n",
    "        output=self.act(densed)\n",
    "        return output"
   ]
  },
  {
   "cell_type": "code",
   "execution_count": 17,
   "metadata": {},
   "outputs": [],
   "source": [
    "INPUT_DIM = len(TEXT.vocab)\n",
    "\n",
    "EMBEDDING_DIM = 100\n",
    "\n",
    "N_FILTERS = 100\n",
    "\n",
    "FILTER_SIZES = [1, 2]\n",
    "\n",
    "OUTPUT_DIM = 5\n",
    "\n",
    "DROPOUT = 0.5\n",
    "\n",
    "# Zero the initial weights of the UNKnown and padding tokens.\n",
    "UNK_IDX = TEXT.vocab.stoi[TEXT.unk_token]\n",
    "\n",
    "# The string token used as padding. Default: “<pad>”.\n",
    "PAD_IDX = TEXT.vocab.stoi[TEXT.pad_token]\n",
    "\n",
    "# Initialize model and load pre-trained embeddings\n",
    "model = CNN_Text(INPUT_DIM, EMBEDDING_DIM, \n",
    "            N_FILTERS, FILTER_SIZES, \n",
    "            OUTPUT_DIM, DROPOUT, PAD_IDX)\n",
    "\n",
    "model.embedding.weight.data.copy_(TEXT.vocab.vectors)\n",
    "model.embedding.weight.data[UNK_IDX] = torch.zeros(EMBEDDING_DIM) #set unk and pad token to zeros\n",
    "model.embedding.weight.data[PAD_IDX] = torch.zeros(EMBEDDING_DIM)\n",
    "optimizer = optim.Adam(model.parameters(),lr=0.00001) #low learning rate to prevent gradient vanishing\n",
    "criterion=nn.CrossEntropyLoss()\n",
    "criterion=criterion.to(device)\n",
    "model = model.to(device)"
   ]
  },
  {
   "cell_type": "code",
   "execution_count": 18,
   "metadata": {},
   "outputs": [],
   "source": [
    "#training & evaluation function for cnn\n",
    "#this block is largely taken from workshop 8.2.4 Define training function and 8.2.5 Define evaluation function\n",
    "\n",
    "def accuracy(preds, y): #the accuracy function is from https://blog.csdn.net/A496608119/article/details/120519679\n",
    "    top_pred = preds.argmax(1, keepdim = True)\n",
    "    correct = top_pred.eq(y.view_as(top_pred)).sum()\n",
    "    acc = correct.float() / y.shape[0]\n",
    "    return acc\n",
    "\n",
    "def train_fun_cnn(model,iterator,optimizer,criterion):\n",
    "    epoch_loss=0\n",
    "    epoch_acc=0\n",
    "    model.train()\n",
    "    for batch in iterator:\n",
    "        optimizer.zero_grad()\n",
    "        #print(batch.label)\n",
    "        text, text_lengths = batch.text #extract text from (text,text_lengths) tuple\n",
    "        predictions=model(text)\n",
    "        #print(predictions)\n",
    "        loss=criterion(predictions,batch.label.long())\n",
    "        acc=accuracy(predictions,batch.label)\n",
    "        loss.backward()\n",
    "        optimizer.step()\n",
    "        epoch_loss+=loss.item()\n",
    "        epoch_acc+=acc.item()\n",
    "    return epoch_loss / len(iterator), epoch_acc / len(iterator)\n",
    "\n",
    "def evaluation_fun_cnn(model,iterator,criterion):\n",
    "    epoch_loss=0\n",
    "    epoch_acc=0\n",
    "    model.eval()\n",
    "    with torch.no_grad():\n",
    "        for batch in iterator:\n",
    "            text, text_lengths = batch.text #separate text from (text,text_lengths) tuple\n",
    "            predictions=model(text)\n",
    "            loss=criterion(predictions,batch.label.long())\n",
    "            acc=accuracy(predictions,batch.label)\n",
    "            epoch_loss+=loss.item()\n",
    "            epoch_acc+=acc.item()\n",
    "    return epoch_loss / len(iterator), epoch_acc / len(iterator)"
   ]
  },
  {
   "cell_type": "code",
   "execution_count": 19,
   "metadata": {},
   "outputs": [],
   "source": [
    "#define testing functions for the model selected by validation\n",
    "\n",
    "def report(preds,y): #produce required metrics\n",
    "    pred = preds.argmax(1, keepdim = True)\n",
    "    acc=accuracy_score(y,pred)\n",
    "    f1=f1_score(y,pred,average='macro')\n",
    "    prec=precision_score(y,pred,average='macro')\n",
    "    recl=recall_score(y,pred,average='macro')\n",
    "    return print('Accuracy: ',acc,'\\n','F1-score: ',f1,'\\n','Precision: ',prec,'\\n','Recall: ',recl,'\\n')\n",
    "\n",
    "def heatmat_NN(preds,y): #create heatmaps\n",
    "    pred = preds.argmax(1, keepdim = True)\n",
    "    mat = confusion_matrix(y,pred)\n",
    "    sns.heatmap(mat.T, square = True, annot=True, fmt = \"d\") \n",
    "    plt.xlabel(\"True label\")\n",
    "    plt.ylabel(\"Predicted label\")\n",
    "    return plt.show()\n",
    "\n",
    "def test_fun(model,iterator): #testing function for cnn\n",
    "    model.eval()\n",
    "    for batch in iterator:\n",
    "        text, text_lengths = batch.text #extract both but only text is usable in cnn\n",
    "        predictions=model(text)\n",
    "        performance=report(predictions,batch.label)\n",
    "        mat=heatmat_NN(predictions,batch.label)\n",
    "    return print(performance),mat"
   ]
  },
  {
   "cell_type": "code",
   "execution_count": 20,
   "metadata": {},
   "outputs": [
    {
     "name": "stdout",
     "output_type": "stream",
     "text": [
      "Epoch   0: Train loss: 1.566 | Train acuracy: 0.4274 | Validation loss: 1.549 | Validation acuracy: 0.5036 - 7.69 s\n",
      "Epoch   1: Train loss: 1.533 | Train acuracy: 0.4976 | Validation loss: 1.517 | Validation acuracy: 0.5036 - 7.76 s\n",
      "Epoch   2: Train loss: 1.503 | Train acuracy: 0.5085 | Validation loss: 1.490 | Validation acuracy: 0.5036 - 7.65 s\n",
      "Epoch   3: Train loss: 1.479 | Train acuracy: 0.5091 | Validation loss: 1.468 | Validation acuracy: 0.5036 - 7.76 s\n",
      "Epoch   4: Train loss: 1.460 | Train acuracy: 0.5092 | Validation loss: 1.453 | Validation acuracy: 0.5036 - 7.75 s\n",
      "Epoch   5: Train loss: 1.447 | Train acuracy: 0.5093 | Validation loss: 1.442 | Validation acuracy: 0.5036 - 7.71 s\n",
      "Epoch   6: Train loss: 1.437 | Train acuracy: 0.5092 | Validation loss: 1.434 | Validation acuracy: 0.5036 - 7.79 s\n",
      "Epoch   7: Train loss: 1.429 | Train acuracy: 0.5092 | Validation loss: 1.428 | Validation acuracy: 0.5036 - 8.00 s\n",
      "Epoch   8: Train loss: 1.423 | Train acuracy: 0.5092 | Validation loss: 1.423 | Validation acuracy: 0.5036 - 7.90 s\n",
      "Epoch   9: Train loss: 1.419 | Train acuracy: 0.5091 | Validation loss: 1.420 | Validation acuracy: 0.5036 - 7.78 s\n",
      "Epoch  10: Train loss: 1.416 | Train acuracy: 0.5092 | Validation loss: 1.417 | Validation acuracy: 0.5036 - 7.92 s\n",
      "Epoch  11: Train loss: 1.413 | Train acuracy: 0.5092 | Validation loss: 1.415 | Validation acuracy: 0.5036 - 7.81 s\n",
      "Epoch  12: Train loss: 1.411 | Train acuracy: 0.5092 | Validation loss: 1.413 | Validation acuracy: 0.5036 - 7.92 s\n",
      "Epoch  13: Train loss: 1.409 | Train acuracy: 0.5092 | Validation loss: 1.411 | Validation acuracy: 0.5036 - 7.87 s\n",
      "Epoch  14: Train loss: 1.407 | Train acuracy: 0.5092 | Validation loss: 1.410 | Validation acuracy: 0.5036 - 7.92 s\n",
      "Epoch  15: Train loss: 1.406 | Train acuracy: 0.5092 | Validation loss: 1.409 | Validation acuracy: 0.5036 - 8.02 s\n",
      "Epoch  16: Train loss: 1.404 | Train acuracy: 0.5091 | Validation loss: 1.408 | Validation acuracy: 0.5036 - 7.99 s\n",
      "Epoch  17: Train loss: 1.404 | Train acuracy: 0.5093 | Validation loss: 1.407 | Validation acuracy: 0.5036 - 8.02 s\n",
      "Epoch  18: Train loss: 1.403 | Train acuracy: 0.5092 | Validation loss: 1.407 | Validation acuracy: 0.5036 - 8.02 s\n",
      "Epoch  19: Train loss: 1.402 | Train acuracy: 0.5092 | Validation loss: 1.406 | Validation acuracy: 0.5036 - 9.40 s\n",
      "\n",
      "Best performance at epoch 19 | Loss: 1.406 | Accuracy: 0.5036\n"
     ]
    }
   ],
   "source": [
    "#training and validation\n",
    "#this block is largely taken from workshop 8.3 and exercise 8.1\n",
    "N_EPOCHS=20\n",
    "best_valid_loss=float('inf')\n",
    "best_valid_acc=float('inf')\n",
    "best_epoch=0\n",
    "epoch_loss_train = []\n",
    "epoch_loss_valid = []\n",
    "epoch_accuracy_train = []\n",
    "epoch_accuracy_valid = []\n",
    "\n",
    "for epoch in range(N_EPOCHS):\n",
    "    print(\"Epoch %3d:\" % epoch,end='')\n",
    "    start=time.time()\n",
    "    train_loss, train_acc = train_fun_cnn(model, train_rmtr_iterator, optimizer, criterion) #compute and store loss and accuracy\n",
    "    epoch_loss_train.append(train_loss)\n",
    "    epoch_accuracy_train.append(train_acc)\n",
    "    valid_loss,valid_acc=evaluation_fun_cnn(model,validation_rmtr_iterator,criterion)\n",
    "    epoch_loss_valid.append(valid_loss)\n",
    "    epoch_accuracy_valid.append(valid_acc)\n",
    "\n",
    "    if valid_loss < best_valid_loss:\n",
    "        best_valid_loss = valid_loss\n",
    "        best_valid_acc = valid_acc\n",
    "        best_epoch = epoch \n",
    "        torch.save(model, 'CNN.pth') \n",
    "    print(\" Train loss: %.3f | Train acuracy: %3.4f \" % (train_loss,train_acc),end='')\n",
    "    print(\"| Validation loss: %.3f | Validation acuracy: %3.4f\" % (valid_loss,valid_acc),end='')\n",
    "    print(\" - %3.2f s\" % (time.time()-start))\n",
    "\n",
    "print(\"\\nBest performance at epoch %d | Loss: %.3f | Accuracy: %3.4f\" % (best_epoch,best_valid_loss,best_valid_acc))\n",
    "        \n",
    "        "
   ]
  },
  {
   "cell_type": "code",
   "execution_count": 21,
   "metadata": {},
   "outputs": [
    {
     "data": {
      "image/png": "[encoded data removed]",
      "text/plain": [
       "<Figure size 576x432 with 2 Axes>"
      ]
     },
     "metadata": {
      "needs_background": "light"
     },
     "output_type": "display_data"
    }
   ],
   "source": [
    "#this block is taken from exercise 8.1\n",
    "eps = np.arange(N_EPOCHS)\n",
    "\n",
    "fig, (ax1, ax2) = plt.subplots(2, figsize=(8, 6), sharex=True)\n",
    "\n",
    "ax1.set_ylim([1.35, 1.7])\n",
    "ax1.plot(epoch_loss_train,'b')\n",
    "ax1.plot(epoch_loss_valid,'r')\n",
    "ax1.set_ylabel(\"Loss per epoch\")\n",
    "ax1.legend([\"Training\",\"Validation\"])\n",
    "\n",
    "ax2.set_ylim([0.3, 0.6])\n",
    "ax2.plot(epoch_accuracy_train,'b')\n",
    "ax2.plot(epoch_accuracy_valid,'r')\n",
    "ax2.set_ylabel(\"Accuracy per epoch\")\n",
    "ax2.set_xlabel(\"Epochs\")\n",
    "ax2.legend([\"Training\",\"Validation\"])\n",
    "plt.show()"
   ]
  },
  {
   "cell_type": "code",
   "execution_count": 22,
   "metadata": {},
   "outputs": [
    {
     "data": {
      "text/plain": [
       "'\\nAlthough both training and validation accuracy remain flat after epoch 2, there is a steady downward trend in terms of both training and validation accuracy,\\nindicating that the model is not fully trained. Larger epoch number should be implemented for further work.\\n\\nWhile increasing learning rate is a potential option, this has been tried but validation loss remained constant, which is why this method is not presented.\\n'"
      ]
     },
     "execution_count": 22,
     "metadata": {},
     "output_type": "execute_result"
    }
   ],
   "source": [
    "'''\n",
    "Although both training and validation accuracy remain flat after epoch 2, there is a steady downward trend in terms of both training and validation accuracy,\n",
    "indicating that the model is not fully trained. Larger epoch number should be implemented for further work.\n",
    "\n",
    "While increasing learning rate is a potential option, this has been tried but validation loss remained constant, which is why this method is not presented.\n",
    "'''"
   ]
  },
  {
   "cell_type": "code",
   "execution_count": 23,
   "metadata": {},
   "outputs": [
    {
     "name": "stdout",
     "output_type": "stream",
     "text": [
      "Accuracy:  0.516083557606049 \n",
      " F1-score:  0.13616229923922232 \n",
      " Precision:  0.10321671152120979 \n",
      " Recall:  0.2 \n",
      "\n"
     ]
    },
    {
     "data": {
      "image/png": "[encoded data removed]",
      "text/plain": [
       "<Figure size 432x288 with 2 Axes>"
      ]
     },
     "metadata": {
      "needs_background": "light"
     },
     "output_type": "display_data"
    },
    {
     "name": "stdout",
     "output_type": "stream",
     "text": [
      "None\n",
      "Accuracy:  0.2791164658634538 \n",
      " F1-score:  0.1454735740450026 \n",
      " Precision:  0.0930388219544846 \n",
      " Recall:  0.3333333333333333 \n",
      "\n"
     ]
    },
    {
     "data": {
      "image/png": "[encoded data removed]",
      "text/plain": [
       "<Figure size 432x288 with 2 Axes>"
      ]
     },
     "metadata": {
      "needs_background": "light"
     },
     "output_type": "display_data"
    },
    {
     "name": "stdout",
     "output_type": "stream",
     "text": [
      "None\n"
     ]
    },
    {
     "data": {
      "text/plain": [
       "(None, None)"
      ]
     },
     "execution_count": 23,
     "metadata": {},
     "output_type": "execute_result"
    }
   ],
   "source": [
    "#this block only works when the last epoch is the best epoch (in my case it is)\n",
    "test_fun(model,test_rmtr_iterator) #test the selected model on rmtr testing set\n",
    "test_fun(model,test_s140_iterator) #test the selected model on s140 testing set"
   ]
  },
  {
   "cell_type": "code",
   "execution_count": null,
   "metadata": {},
   "outputs": [],
   "source": []
  },
  {
   "cell_type": "code",
   "execution_count": 24,
   "metadata": {},
   "outputs": [
    {
     "name": "stdout",
     "output_type": "stream",
     "text": [
      "Model architecture:\n",
      " LSTM_rmtr(\n",
      "  (embedding): Embedding(16252, 100)\n",
      "  (lstm): LSTM(100, 16, num_layers=2, batch_first=True, dropout=0.2, bidirectional=True)\n",
      "  (fc1): Linear(in_features=32, out_features=5, bias=True)\n",
      "  (act): Softmax(dim=None)\n",
      ")\n",
      "\n",
      "The model has 1646869 trainable parameters\n"
     ]
    }
   ],
   "source": [
    "#LSTM\n",
    "#this block is taken from block 8.2 Create LSTM architecture \n",
    "class LSTM_rmtr(nn.Module):\n",
    "    def __init__(self, vocab_size, embedding_dim, hidden_dim, output_dim, n_layers,bidirectional, dropout):\n",
    "        super().__init__()\n",
    "        self.embedding = nn.Embedding(vocab_size, embedding_dim)\n",
    "        self.lstm = nn.LSTM(embedding_dim,hidden_dim,num_layers=n_layers,bidirectional=bidirectional,dropout=dropout,batch_first=True)\n",
    "        self.fc1 = nn.Linear(hidden_dim * 2, output_dim)\n",
    "        self.act = nn.Softmax()\n",
    "\n",
    "    def forward(self, text, text_lengths):\n",
    "        embedded = self.embedding(text)\n",
    "        packed_embedded = nn.utils.rnn.pack_padded_sequence(embedded, text_lengths,batch_first=True)\n",
    "        packed_output, (hidden, cell) = self.lstm(packed_embedded)\n",
    "        hidden = torch.cat((hidden[-2,:,:], hidden[-1,:,:]), dim = 1)\n",
    "        dense_outputs=self.fc1(hidden)\n",
    "        outputs=self.act(dense_outputs)\n",
    "        return outputs\n",
    "\n",
    "vocabulary_size = len(TEXT.vocab)\n",
    "embedding_dimensions = 100\n",
    "LSTM_no_of_hidden_nodes = 16\n",
    "LSTM_no_of_recurrent_layers = 2\n",
    "LSTM_bidirection = True\n",
    "LSTM_dropout = 0.2 \n",
    "output_size = 5\n",
    "\n",
    "model_lstm = LSTM_rmtr(vocabulary_size, embedding_dimensions, LSTM_no_of_hidden_nodes, \n",
    "                    output_size, LSTM_no_of_recurrent_layers, \n",
    "                    bidirectional = LSTM_bidirection,dropout = LSTM_dropout)\n",
    "\n",
    "\n",
    "print(\"Model architecture:\\n\",model_lstm) \n",
    "\n",
    "def count_parameters(model): \n",
    "    return sum(p.numel() for p in model.parameters() if p.requires_grad)\n",
    "    \n",
    "print(\"\\nThe model has\",count_parameters(model_lstm),\"trainable parameters\")\n",
    "\n",
    "optimizer = optim.Adam(model_lstm.parameters(),lr=0.0001) #small learning rate to prevent gradient vanishing\n",
    "criterion = nn.CrossEntropyLoss()\n",
    "model = model_lstm.to(device)\n",
    "criterion = criterion.to(device)"
   ]
  },
  {
   "cell_type": "code",
   "execution_count": 25,
   "metadata": {},
   "outputs": [],
   "source": [
    "def accuracy_lstm(preds,y): #the accuracy function is from https://blog.csdn.net/A496608119/article/details/120519679\n",
    "    top_pred = preds.argmax(1, keepdim = True)\n",
    "    correct = top_pred.eq(y.view_as(top_pred)).sum()\n",
    "    acc = correct.float() / y.shape[0]\n",
    "    return acc\n",
    "\n",
    "def train_fun_lstm(model_lstm, iterator, optimizer, criterion):\n",
    "    epoch_loss = 0\n",
    "    epoch_acc = 0\n",
    "    model_lstm.train()  #set to train mode\n",
    "    for batch in iterator:\n",
    "        optimizer.zero_grad() #initialise with 0 gradient\n",
    "        #print(batch.text)\n",
    "        text, text_lengths = batch.text   \n",
    "        predictions = model_lstm(text, text_lengths)#.squeeze()\n",
    "        #print(predictions)\n",
    "        loss = criterion(predictions, batch.label.long())   \n",
    "        acc = accuracy_lstm(predictions, batch.label)   \n",
    "        loss.backward()  \n",
    "        optimizer.step()   \n",
    "        epoch_loss += loss.item()\n",
    "        epoch_acc += acc.item()    \n",
    "    return epoch_loss / len(iterator), epoch_acc / len(iterator)\n",
    "\n",
    "def evaluate_fun_lstm(model_lstm, iterator, criterion): \n",
    "    epoch_loss = 0\n",
    "    epoch_acc = 0\n",
    "    model_lstm.eval() #set to evaluation mode so that weights are not updated\n",
    "    with torch.no_grad(): \n",
    "        for batch in iterator:\n",
    "            text, text_lengths = batch.text \n",
    "            predictions = model_lstm(text, text_lengths)#.squeeze() \n",
    "            loss = criterion(predictions, batch.label.long()) \n",
    "            acc = accuracy_lstm(predictions, batch.label)\n",
    "            epoch_loss += loss.item()\n",
    "            epoch_acc += acc.item()\n",
    "    return epoch_loss / len(iterator), epoch_acc / len(iterator)\n",
    "\n",
    "def test_fun_lstm(model,iterator): #define testing function for lstm\n",
    "    model.eval() \n",
    "    for batch in iterator:\n",
    "        text, text_lengths = batch.text \n",
    "        predictions=model(text,text_lengths) \n",
    "        performance=report(predictions,batch.label)\n",
    "        mat=heatmat_NN(predictions,batch.label)\n",
    "    return print(performance),mat"
   ]
  },
  {
   "cell_type": "code",
   "execution_count": 27,
   "metadata": {},
   "outputs": [
    {
     "name": "stdout",
     "output_type": "stream",
     "text": [
      "Epoch   0: Train loss: 1.599 | Train acuracy: 0.3749 | Validation loss: 1.579 | Validation acuracy: 0.5036 - 30.86 s\n",
      "Epoch   1: Train loss: 1.543 | Train acuracy: 0.5091 | Validation loss: 1.499 | Validation acuracy: 0.5036 - 30.67 s\n",
      "Epoch   2: Train loss: 1.462 | Train acuracy: 0.5092 | Validation loss: 1.436 | Validation acuracy: 0.5036 - 31.07 s\n",
      "Epoch   3: Train loss: 1.422 | Train acuracy: 0.5092 | Validation loss: 1.417 | Validation acuracy: 0.5036 - 31.35 s\n",
      "Epoch   4: Train loss: 1.409 | Train acuracy: 0.5092 | Validation loss: 1.410 | Validation acuracy: 0.5036 - 30.94 s\n",
      "Epoch   5: Train loss: 1.404 | Train acuracy: 0.5092 | Validation loss: 1.407 | Validation acuracy: 0.5036 - 31.15 s\n",
      "Epoch   6: Train loss: 1.401 | Train acuracy: 0.5092 | Validation loss: 1.405 | Validation acuracy: 0.5036 - 31.14 s\n",
      "Epoch   7: Train loss: 1.400 | Train acuracy: 0.5092 | Validation loss: 1.404 | Validation acuracy: 0.5036 - 31.58 s\n",
      "Epoch   8: Train loss: 1.399 | Train acuracy: 0.5092 | Validation loss: 1.404 | Validation acuracy: 0.5036 - 31.05 s\n",
      "Epoch   9: Train loss: 1.398 | Train acuracy: 0.5091 | Validation loss: 1.403 | Validation acuracy: 0.5036 - 31.21 s\n",
      "Epoch  10: Train loss: 1.398 | Train acuracy: 0.5091 | Validation loss: 1.403 | Validation acuracy: 0.5036 - 30.94 s\n",
      "Epoch  11: Train loss: 1.397 | Train acuracy: 0.5092 | Validation loss: 1.403 | Validation acuracy: 0.5036 - 31.32 s\n",
      "Epoch  12: Train loss: 1.397 | Train acuracy: 0.5092 | Validation loss: 1.402 | Validation acuracy: 0.5036 - 31.57 s\n",
      "Epoch  13: Train loss: 1.397 | Train acuracy: 0.5092 | Validation loss: 1.402 | Validation acuracy: 0.5036 - 31.06 s\n",
      "Epoch  14: Train loss: 1.397 | Train acuracy: 0.5092 | Validation loss: 1.402 | Validation acuracy: 0.5036 - 28.93 s\n",
      "Epoch  15: Train loss: 1.397 | Train acuracy: 0.5092 | Validation loss: 1.402 | Validation acuracy: 0.5036 - 28.35 s\n",
      "Epoch  16: Train loss: 1.397 | Train acuracy: 0.5091 | Validation loss: 1.402 | Validation acuracy: 0.5036 - 29.61 s\n",
      "Epoch  17: Train loss: 1.396 | Train acuracy: 0.5092 | Validation loss: 1.402 | Validation acuracy: 0.5036 - 29.33 s\n",
      "Epoch  18: Train loss: 1.396 | Train acuracy: 0.5092 | Validation loss: 1.402 | Validation acuracy: 0.5036 - 29.27 s\n",
      "Epoch  19: Train loss: 1.396 | Train acuracy: 0.5092 | Validation loss: 1.402 | Validation acuracy: 0.5036 - 29.31 s\n",
      "\n",
      "Best performance at epoch 19 | Loss: 1.402 | Accuracy: 0.5036\n"
     ]
    }
   ],
   "source": [
    "N_EPOCHS = 20\n",
    "best_valid_loss = float('inf')\n",
    "best_valid_acc = float('inf')\n",
    "best_epoch = 0\n",
    "epoch_loss_train = []\n",
    "epoch_loss_valid = []\n",
    "epoch_accuracy_train = []\n",
    "epoch_accuracy_valid = []\n",
    "\n",
    "\n",
    "for epoch in range(N_EPOCHS):\n",
    "    \n",
    "    print(\"Epoch %3d:\" % epoch,end='')\n",
    "    start = time.time()\n",
    "    #train the model\n",
    "    train_loss, train_acc = train_fun_lstm(model_lstm, train_rmtr_iterator, optimizer, criterion)\n",
    "    epoch_loss_train.append(train_loss)\n",
    "    epoch_accuracy_train.append(train_acc)\n",
    "    #evaluate the model\n",
    "    valid_loss, valid_acc = evaluate_fun_lstm(model_lstm, validation_rmtr_iterator, criterion)\n",
    "    epoch_loss_valid.append(valid_loss)\n",
    "    epoch_accuracy_valid.append(valid_acc)\n",
    "\n",
    "    #the best model indicated by numerics\n",
    "    if valid_loss < best_valid_loss:\n",
    "        best_valid_loss = valid_loss\n",
    "        best_valid_acc = valid_acc\n",
    "        best_epoch = epoch\n",
    "        torch.save(model_lstm, 'LSTM.pth')\n",
    "    print(\" Train loss: %.3f | Train acuracy: %3.4f \" % (train_loss,train_acc),end='')\n",
    "    print(\"| Validation loss: %.3f | Validation acuracy: %3.4f\" % (valid_loss,valid_acc),end='')\n",
    "    print(\" - %3.2f s\" % (time.time()-start)) \n",
    "        \n",
    "print(\"\\nBest performance at epoch %d | Loss: %.3f | Accuracy: %3.4f\" % (best_epoch,best_valid_loss,best_valid_acc))"
   ]
  },
  {
   "cell_type": "code",
   "execution_count": 28,
   "metadata": {},
   "outputs": [
    {
     "data": {
      "image/png": "[encoded data removed]",
      "text/plain": [
       "<Figure size 576x432 with 2 Axes>"
      ]
     },
     "metadata": {
      "needs_background": "light"
     },
     "output_type": "display_data"
    }
   ],
   "source": [
    "#this block is taken from exercise 8.1\n",
    "eps = np.arange(N_EPOCHS)\n",
    "\n",
    "fig, (ax1, ax2) = plt.subplots(2, figsize=(8, 6), sharex=True)\n",
    "\n",
    "ax1.set_ylim([1.3, 1.7])\n",
    "ax1.plot(epoch_loss_train,'b')\n",
    "ax1.plot(epoch_loss_valid,'r')\n",
    "ax1.set_ylabel(\"Loss per epoch\")\n",
    "ax1.legend([\"Training\",\"Validation\"])\n",
    "\n",
    "ax2.set_ylim([0.4, 0.6])\n",
    "ax2.plot(epoch_accuracy_train,'b')\n",
    "ax2.plot(epoch_accuracy_valid,'r')\n",
    "ax2.set_ylabel(\"Accuracy per epoch\")\n",
    "ax2.set_xlabel(\"Epochs\")\n",
    "ax2.legend([\"Training\",\"Validation\"])\n",
    "\n",
    "plt.show()"
   ]
  },
  {
   "cell_type": "code",
   "execution_count": 29,
   "metadata": {},
   "outputs": [
    {
     "data": {
      "text/plain": [
       "'\\nAlthough both training and validation accuracy remain flat after epoch 1, there is a steady downward trend in terms of both training and validation accuracy,\\nindicating that the model is not fully trained. Larger epoch number should be implemented for further work.\\n\\nWhile increasing learning rate is a potential option, this has been tried but validation loss remained constant, which is why this method is not presented.\\n'"
      ]
     },
     "execution_count": 29,
     "metadata": {},
     "output_type": "execute_result"
    }
   ],
   "source": [
    "'''\n",
    "Although both training and validation accuracy remain flat after epoch 1, there is a steady downward trend in terms of both training and validation accuracy,\n",
    "indicating that the model is not fully trained. Larger epoch number should be implemented for further work.\n",
    "\n",
    "While increasing learning rate is a potential option, this has been tried but validation loss remained constant, which is why this method is not presented.\n",
    "'''"
   ]
  },
  {
   "cell_type": "code",
   "execution_count": 30,
   "metadata": {},
   "outputs": [
    {
     "name": "stdout",
     "output_type": "stream",
     "text": [
      "Accuracy:  0.516083557606049 \n",
      " F1-score:  0.13616229923922232 \n",
      " Precision:  0.10321671152120979 \n",
      " Recall:  0.2 \n",
      "\n"
     ]
    },
    {
     "data": {
      "image/png": "[encoded data removed]",
      "text/plain": [
       "<Figure size 432x288 with 2 Axes>"
      ]
     },
     "metadata": {
      "needs_background": "light"
     },
     "output_type": "display_data"
    },
    {
     "name": "stdout",
     "output_type": "stream",
     "text": [
      "None\n",
      "Accuracy:  0.2791164658634538 \n",
      " F1-score:  0.1454735740450026 \n",
      " Precision:  0.0930388219544846 \n",
      " Recall:  0.3333333333333333 \n",
      "\n"
     ]
    },
    {
     "data": {
      "image/png": "[encoded data removed]",
      "text/plain": [
       "<Figure size 432x288 with 2 Axes>"
      ]
     },
     "metadata": {
      "needs_background": "light"
     },
     "output_type": "display_data"
    },
    {
     "name": "stdout",
     "output_type": "stream",
     "text": [
      "None\n"
     ]
    },
    {
     "data": {
      "text/plain": [
       "(None, None)"
      ]
     },
     "execution_count": 30,
     "metadata": {},
     "output_type": "execute_result"
    }
   ],
   "source": [
    "#this block only works when the last epoch is the best epoch (in this case it is)\n",
    "test_fun_lstm(model,test_rmtr_iterator) #test the selected model on rmtr testing set\n",
    "test_fun_lstm(model,test_s140_iterator) #test the selected model on s140 testing set"
   ]
  },
  {
   "cell_type": "code",
   "execution_count": 31,
   "metadata": {},
   "outputs": [],
   "source": [
    "#predict function\n",
    "def predict_post(text,model):\n",
    "    label_dic={0:'Negative',1:'Somewhat Negative',2:'Neutral',3:'Somewhat Positive',4:'Positive'}\n",
    "    tokenised=[i.lower() for i in word_tokenize(text) if i not in stopwords.words('english')]\n",
    "    sentence=[' '.join(i for i in tokenised if len(i)>1)]\n",
    "\n",
    "    if model.endswith('.pkl'): #do when NB models are called\n",
    "        with open(model,'rb') as file:\n",
    "            nb_model=pickle.load(file)\n",
    "        predicted_class=nb_model.predict(sentence)[0] #extract the predicted label from np.array\n",
    "\n",
    "    elif model.endswith('.pth'): #do when NNs are called\n",
    "        vocabulary=torch.load('vocab.pth')\n",
    "        #the next 3 lines are from workshop 8.4\n",
    "        indexed = [vocabulary.stoi[token] for token in tokenised]\n",
    "        tensor = torch.LongTensor(indexed).to(device)\n",
    "        tensor = tensor.unsqueeze(1).T\n",
    "    \n",
    "        if model=='LSTM.pth': #do when LSTM model is called\n",
    "            #the next 2 lines are from workshop 8.4\n",
    "            length = [len(indexed)]\n",
    "            length_tensor = torch.LongTensor(length)\n",
    "            lstm_model=torch.load('LSTM.pth')\n",
    "            lstm_model.eval()\n",
    "            prediction = lstm_model(tensor, length_tensor)\n",
    "            predicted_class=prediction.argmax(1, keepdim = True).item() #extract predicted label from tensor\n",
    "        \n",
    "        elif model=='CNN.pth': #do when CNN is called\n",
    "            cnn_model=torch.load('CNN.pth')\n",
    "            cnn_model.eval()\n",
    "            prediction=cnn_model(tensor)\n",
    "            predicted_class=prediction.argmax(1, keepdim = True).item() #extract predicted label from tensor\n",
    "\n",
    "    output=label_dic[predicted_class]    \n",
    "    return output"
   ]
  },
  {
   "cell_type": "code",
   "execution_count": 32,
   "metadata": {},
   "outputs": [
    {
     "name": "stdout",
     "output_type": "stream",
     "text": [
      "CNN:  Negative Negative Negative\n",
      "LSTM:  Negative Negative Negative\n",
      "NB on RMTR:  Neutral Neutral Neutral\n"
     ]
    }
   ],
   "source": [
    "test_text_pos='the plot was interesting'\n",
    "test_text_neg='worst, movie ever. my fault to have watched this'\n",
    "noise='nhnf ihijn ihujrgl'\n",
    "\n",
    "print('CNN: ',predict_post(test_text_neg,'CNN.pth'),predict_post(test_text_pos,'CNN.pth'),predict_post(noise,'CNN.pth'))\n",
    "print('LSTM: ',predict_post(test_text_neg,'LSTM.pth'),predict_post(test_text_pos,'LSTM.pth'),predict_post(noise,'LSTM.pth'))\n",
    "print('NB on RMTR: ',predict_post(test_text_neg,'NB_rtmr.pkl'),predict_post(test_text_pos,'NB_rtmr.pkl'),predict_post(noise,'NB_rtmr.pkl'))"
   ]
  },
  {
   "cell_type": "code",
   "execution_count": null,
   "metadata": {},
   "outputs": [],
   "source": []
  }
 ],
 "metadata": {
  "interpreter": {
   "hash": "ecdede3ee117fce16f9afedacb69f17c8a73fd558902dc318e1c4ab38a2b2131"
  },
  "kernelspec": {
   "display_name": "Python 3.8.8 ('base')",
   "language": "python",
   "name": "python3"
  },
  "language_info": {
   "codemirror_mode": {
    "name": "ipython",
    "version": 3
   },
   "file_extension": ".py",
   "mimetype": "text/x-python",
   "name": "python",
   "nbconvert_exporter": "python",
   "pygments_lexer": "ipython3",
   "version": "3.8.8"
  },
  "orig_nbformat": 4
 },
 "nbformat": 4,
 "nbformat_minor": 2
}
